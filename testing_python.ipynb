{
 "cells": [
  {
   "cell_type": "markdown",
   "metadata": {},
   "source": [
    "# Testing Python"
   ]
  },
  {
   "cell_type": "code",
   "execution_count": 1,
   "metadata": {
    "scrolled": false
   },
   "outputs": [
    {
     "name": "stdout",
     "output_type": "stream",
     "text": [
      "C:\\Users\\Joseph\\ml_projects\\ai_mouse_movements\\python\n",
      "Processing c:\\users\\joseph\\ml_projects\\ai_mouse_movements\\python\n",
      "Requirement already satisfied: numpy in c:\\users\\joseph\\miniconda3\\envs\\ml2\\lib\\site-packages (from mouse==0.0.1) (1.17.0)\n",
      "Requirement already satisfied: keras in c:\\users\\joseph\\miniconda3\\envs\\ml2\\lib\\site-packages (from mouse==0.0.1) (2.2.4)\n",
      "Requirement already satisfied: pyyaml in c:\\users\\joseph\\miniconda3\\envs\\ml2\\lib\\site-packages (from keras->mouse==0.0.1) (5.1.2)\n",
      "Requirement already satisfied: keras-preprocessing>=1.0.5 in c:\\users\\joseph\\miniconda3\\envs\\ml2\\lib\\site-packages (from keras->mouse==0.0.1) (1.1.0)\n",
      "Requirement already satisfied: six>=1.9.0 in c:\\users\\joseph\\miniconda3\\envs\\ml2\\lib\\site-packages (from keras->mouse==0.0.1) (1.12.0)\n",
      "Requirement already satisfied: scipy>=0.14 in c:\\users\\joseph\\miniconda3\\envs\\ml2\\lib\\site-packages (from keras->mouse==0.0.1) (1.3.1)\n",
      "Requirement already satisfied: keras-applications>=1.0.6 in c:\\users\\joseph\\miniconda3\\envs\\ml2\\lib\\site-packages (from keras->mouse==0.0.1) (1.0.8)\n",
      "Requirement already satisfied: h5py in c:\\users\\joseph\\miniconda3\\envs\\ml2\\lib\\site-packages (from keras->mouse==0.0.1) (2.9.0)\n",
      "Building wheels for collected packages: mouse\n",
      "  Building wheel for mouse (setup.py): started\n",
      "  Building wheel for mouse (setup.py): finished with status 'done'\n",
      "  Created wheel for mouse: filename=mouse-0.0.1-cp36-none-any.whl size=2691 sha256=0b59cf5699d0dd8c2d4cac1decc413daed11f0ecf7831601e0fcdcd7dcf8ef4c\n",
      "  Stored in directory: C:\\Users\\Joseph\\AppData\\Local\\Temp\\pip-ephem-wheel-cache-92qo64ka\\wheels\\7d\\ba\\2f\\d83148d7f63ab711db34b837fd40ce569325f5586e7fb83d26\n",
      "Successfully built mouse\n",
      "Installing collected packages: mouse\n",
      "  Found existing installation: mouse 0.0.1\n",
      "    Uninstalling mouse-0.0.1:\n",
      "      Successfully uninstalled mouse-0.0.1\n",
      "Successfully installed mouse-0.0.1\n",
      "C:\\Users\\Joseph\\ml_projects\\ai_mouse_movements\n"
     ]
    },
    {
     "name": "stderr",
     "output_type": "stream",
     "text": [
      "WARNING: You are using pip version 19.2.3, however version 20.2.2 is available.\n",
      "You should consider upgrading via the 'python -m pip install --upgrade pip' command.\n"
     ]
    }
   ],
   "source": [
    "%cd \"C:\\Users\\Joseph\\ml_projects\\ai_mouse_movements\\python\"\n",
    "!pip install .\n",
    "%cd \"C:\\Users\\Joseph\\ml_projects\\ai_mouse_movements\""
   ]
  },
  {
   "cell_type": "code",
   "execution_count": 4,
   "metadata": {},
   "outputs": [],
   "source": [
    "import python"
   ]
  },
  {
   "cell_type": "code",
   "execution_count": null,
   "metadata": {},
   "outputs": [],
   "source": [
    "help(ai_mouse_movements)"
   ]
  }
 ],
 "metadata": {
  "kernelspec": {
   "display_name": "Python 3",
   "language": "python",
   "name": "python3"
  },
  "language_info": {
   "codemirror_mode": {
    "name": "ipython",
    "version": 3
   },
   "file_extension": ".py",
   "mimetype": "text/x-python",
   "name": "python",
   "nbconvert_exporter": "python",
   "pygments_lexer": "ipython3",
   "version": "3.6.9"
  }
 },
 "nbformat": 4,
 "nbformat_minor": 2
}
