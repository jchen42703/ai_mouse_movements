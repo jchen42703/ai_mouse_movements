{
 "cells": [
  {
   "cell_type": "code",
   "execution_count": 1,
   "metadata": {},
   "outputs": [],
   "source": [
    "from tqdm import tqdm\n",
    "import numpy as np\n",
    "import matplotlib.pyplot as plt\n",
    "import seaborn as sns"
   ]
  },
  {
   "cell_type": "code",
   "execution_count": 2,
   "metadata": {},
   "outputs": [
    {
     "data": {
      "text/plain": [
       "(83797, list)"
      ]
     },
     "execution_count": 2,
     "metadata": {},
     "output_type": "execute_result"
    }
   ],
   "source": [
    "import json\n",
    "json_path = r\"C:\\Users\\Joseph\\Desktop\\mouse_movements_data.json\"\n",
    "with open(json_path, \"r\") as fp:\n",
    "    data = json.load(fp)\n",
    "len(data), type(data)"
   ]
  },
  {
   "cell_type": "markdown",
   "metadata": {},
   "source": [
    "Each event session dictionary is a list of dictionaries with the keys:\n",
    "* `clientX`, `clientY`: (X, Y) coordinates\n",
    "* `type`: type of movement (mousemove, mouseup, pointerdown, click)\n",
    "    * generally not that important\n",
    "* `timeDiff`: time of the movement since the beginning\n",
    "---\n",
    "Note: I referring to:\n",
    "* `data[i]` --> `session_dict`\n",
    "* `session_dict[\"events\"]` --> `events`\n",
    "* `events[i]` --> `entry`"
   ]
  },
  {
   "cell_type": "code",
   "execution_count": 36,
   "metadata": {},
   "outputs": [
    {
     "data": {
      "text/plain": [
       "[{'clientX': 915, 'clientY': 154, 'type': 'mousemove', 'timeDiff': 9779},\n",
       " {'clientX': 915.5556030273438,\n",
       "  'clientY': 154.4444580078125,\n",
       "  'type': 'pointerdown',\n",
       "  'timeDiff': 9780},\n",
       " {'clientX': 915, 'clientY': 154, 'type': 'mousedown', 'timeDiff': 9780},\n",
       " {'clientX': 915.5556030273438,\n",
       "  'clientY': 154.4444580078125,\n",
       "  'type': 'pointerup',\n",
       "  'timeDiff': 9797},\n",
       " {'clientX': 915, 'clientY': 154, 'type': 'mouseup', 'timeDiff': 9797},\n",
       " {'clientX': 915, 'clientY': 154, 'type': 'click', 'timeDiff': 9798}]"
      ]
     },
     "execution_count": 36,
     "metadata": {},
     "output_type": "execute_result"
    }
   ],
   "source": [
    "json.loads(data[0][\"events\"])"
   ]
  },
  {
   "cell_type": "markdown",
   "metadata": {},
   "source": [
    "Analyzing the distribution of the number of mouse events per session dictionary"
   ]
  },
  {
   "cell_type": "code",
   "execution_count": 3,
   "metadata": {},
   "outputs": [],
   "source": [
    "import numpy as np\n",
    "def get_stats(events):\n",
    "    \"\"\"\n",
    "    Min, Max, Mean, STD\n",
    "    \"\"\"\n",
    "    events = np.array(events)\n",
    "    print(f\"Min: {events.min()}, Max: {events.max()},\\nMean: {events.mean()}, STD: {events.std()}\")"
   ]
  },
  {
   "cell_type": "code",
   "execution_count": 37,
   "metadata": {},
   "outputs": [],
   "source": [
    "num_events = [len(json.loads(session_dict[\"events\"])) for session_dict in data]\n",
    "assert len(num_events) == len(data)"
   ]
  },
  {
   "cell_type": "code",
   "execution_count": 38,
   "metadata": {},
   "outputs": [
    {
     "name": "stdout",
     "output_type": "stream",
     "text": [
      "Min: 1, Max: 1539,\n",
      "Mean: 164.56595104836688, STD: 185.17127342239542\n"
     ]
    }
   ],
   "source": [
    "get_stats(num_events)"
   ]
  },
  {
   "cell_type": "code",
   "execution_count": 39,
   "metadata": {},
   "outputs": [
    {
     "data": {
      "image/png": "[encoded data removed]",
      "text/plain": [
       "<Figure size 432x288 with 1 Axes>"
      ]
     },
     "metadata": {
      "needs_background": "light"
     },
     "output_type": "display_data"
    }
   ],
   "source": [
    "import seaborn as sns\n",
    "import matplotlib.pyplot as plt\n",
    "ax = sns.distplot(num_events)"
   ]
  },
  {
   "cell_type": "markdown",
   "metadata": {},
   "source": [
    "Analyzing the time diffs"
   ]
  },
  {
   "cell_type": "code",
   "execution_count": 4,
   "metadata": {},
   "outputs": [
    {
     "name": "stderr",
     "output_type": "stream",
     "text": [
      "100%|██████████████████████████████████| 83797/83797 [00:37<00:00, 2209.71it/s]"
     ]
    },
    {
     "name": "stdout",
     "output_type": "stream",
     "text": [
      "Number of entries: 13790133\n"
     ]
    },
    {
     "name": "stderr",
     "output_type": "stream",
     "text": [
      "\n"
     ]
    }
   ],
   "source": [
    "time_diffs = []\n",
    "for session_dict in tqdm(data):\n",
    "    events_list = json.loads(session_dict[\"events\"])\n",
    "    for entry in events_list:\n",
    "        time_diffs.append(entry[\"timeDiff\"])\n",
    "num_entries = len(time_diffs)\n",
    "print(f\"Number of entries: {num_entries}\")"
   ]
  },
  {
   "cell_type": "code",
   "execution_count": 5,
   "metadata": {},
   "outputs": [
    {
     "name": "stdout",
     "output_type": "stream",
     "text": [
      "Min: 0, Max: 1022832230,\n",
      "Mean: 941054.2764660065, STD: 14158372.92823553\n"
     ]
    }
   ],
   "source": [
    "get_stats(time_diffs)"
   ]
  },
  {
   "cell_type": "code",
   "execution_count": 7,
   "metadata": {},
   "outputs": [
    {
     "data": {
      "image/png": "[encoded data removed]",
      "text/plain": [
       "<Figure size 432x288 with 1 Axes>"
      ]
     },
     "metadata": {
      "needs_background": "light"
     },
     "output_type": "display_data"
    }
   ],
   "source": [
    "# ax = sns.distplot(time_diffs)\n",
    "# PLotting a random sample because it is too large\n",
    "sample = np.random.choice(time_diffs, size=10000)\n",
    "ax = sns.distplot(sample)"
   ]
  },
  {
   "cell_type": "markdown",
   "metadata": {},
   "source": [
    "# Plotting Paths"
   ]
  },
  {
   "cell_type": "markdown",
   "metadata": {
    "heading_collapsed": true
   },
   "source": [
    "## Singular"
   ]
  },
  {
   "cell_type": "code",
   "execution_count": 40,
   "metadata": {
    "hidden": true
   },
   "outputs": [
    {
     "data": {
      "text/plain": [
       "[{'clientX': 915, 'clientY': 154, 'type': 'mousemove', 'timeDiff': 9779},\n",
       " {'clientX': 915.5556030273438,\n",
       "  'clientY': 154.4444580078125,\n",
       "  'type': 'pointerdown',\n",
       "  'timeDiff': 9780},\n",
       " {'clientX': 915, 'clientY': 154, 'type': 'mousedown', 'timeDiff': 9780},\n",
       " {'clientX': 915.5556030273438,\n",
       "  'clientY': 154.4444580078125,\n",
       "  'type': 'pointerup',\n",
       "  'timeDiff': 9797},\n",
       " {'clientX': 915, 'clientY': 154, 'type': 'mouseup', 'timeDiff': 9797},\n",
       " {'clientX': 915, 'clientY': 154, 'type': 'click', 'timeDiff': 9798}]"
      ]
     },
     "execution_count": 40,
     "metadata": {},
     "output_type": "execute_result"
    }
   ],
   "source": [
    "json.loads(data[0][\"events\"])"
   ]
  },
  {
   "cell_type": "code",
   "execution_count": 49,
   "metadata": {
    "hidden": true
   },
   "outputs": [
    {
     "data": {
      "text/plain": [
       "([{'clientX': 915, 'clientY': 154, 'type': 'mousemove', 'timeDiff': 9779},\n",
       "  {'clientX': 915.5556030273438,\n",
       "   'clientY': 154.4444580078125,\n",
       "   'type': 'pointerdown',\n",
       "   'timeDiff': 9780},\n",
       "  {'clientX': 915, 'clientY': 154, 'type': 'mousedown', 'timeDiff': 9780},\n",
       "  {'clientX': 915.5556030273438,\n",
       "   'clientY': 154.4444580078125,\n",
       "   'type': 'pointerup',\n",
       "   'timeDiff': 9797},\n",
       "  {'clientX': 915, 'clientY': 154, 'type': 'mouseup', 'timeDiff': 9797},\n",
       "  {'clientX': 915, 'clientY': 154, 'type': 'click', 'timeDiff': 9798}],\n",
       " 6)"
      ]
     },
     "execution_count": 49,
     "metadata": {},
     "output_type": "execute_result"
    }
   ],
   "source": [
    "import copy\n",
    "example = copy.deepcopy(json.loads(data[0][\"events\"]))\n",
    "example, len(example)"
   ]
  },
  {
   "cell_type": "code",
   "execution_count": 50,
   "metadata": {
    "hidden": true
   },
   "outputs": [
    {
     "data": {
      "text/plain": [
       "(6, 2)"
      ]
     },
     "execution_count": 50,
     "metadata": {},
     "output_type": "execute_result"
    }
   ],
   "source": [
    "# formatting so the list[dict] to list[[X, Y]]\n",
    "coords = []\n",
    "for entry in example:\n",
    "    entry.pop(\"type\", 0)\n",
    "    entry.pop(\"timeDiff\", 0)\n",
    "    coords.append([entry.pop(\"clientX\"), entry.pop(\"clientY\")])\n",
    "coords = np.array(coords)\n",
    "coords.shape"
   ]
  },
  {
   "cell_type": "code",
   "execution_count": 51,
   "metadata": {
    "hidden": true
   },
   "outputs": [],
   "source": [
    "def get_paths_coords(paths):\n",
    "    \"\"\"\n",
    "    Gets the X,Y coordinates for `paths`\n",
    "    Args:\n",
    "        paths (np.ndarray): with shape (num_paths, num_coords_per_path, 2)\n",
    "    Returns:\n",
    "        (X, Y): tuple of lists of the coordinates\n",
    "    \"\"\"\n",
    "    for path in paths:\n",
    "        X = []\n",
    "        Y = []\n",
    "\n",
    "        for point in path:\n",
    "            X.append(point[0])\n",
    "            Y.append(point[1])\n",
    "    return (X, Y)"
   ]
  },
  {
   "cell_type": "code",
   "execution_count": 52,
   "metadata": {
    "hidden": true
   },
   "outputs": [
    {
     "data": {
      "text/plain": [
       "([915.0, 915.5556030273438, 915.0, 915.5556030273438, 915.0, 915.0],\n",
       " [154.0, 154.4444580078125, 154.0, 154.4444580078125, 154.0, 154.0])"
      ]
     },
     "execution_count": 52,
     "metadata": {},
     "output_type": "execute_result"
    }
   ],
   "source": [
    "X, Y = get_paths_coords(coords[None])\n",
    "X, Y"
   ]
  },
  {
   "cell_type": "code",
   "execution_count": 53,
   "metadata": {
    "hidden": true
   },
   "outputs": [
    {
     "data": {
      "text/plain": [
       "[<matplotlib.lines.Line2D at 0xfa1d78e048>]"
      ]
     },
     "execution_count": 53,
     "metadata": {},
     "output_type": "execute_result"
    },
    {
     "data": {
      "image/png": "[encoded data removed]",
      "text/plain": [
       "<Figure size 432x288 with 1 Axes>"
      ]
     },
     "metadata": {
      "needs_background": "light"
     },
     "output_type": "display_data"
    }
   ],
   "source": [
    "plt.plot(X, Y)"
   ]
  },
  {
   "cell_type": "markdown",
   "metadata": {
    "heading_collapsed": true
   },
   "source": [
    "## Multiple"
   ]
  },
  {
   "cell_type": "code",
   "execution_count": null,
   "metadata": {
    "hidden": true
   },
   "outputs": [],
   "source": [
    "# generalized parsing functions\n",
    "import copy\n",
    "example = copy.deepcopy(json.loads(data[0][\"events\"]))\n",
    "example, len(example)\n",
    "# formatting so the list[dict] to list[[X, Y]]\n",
    "coords = []\n",
    "for entry in example:\n",
    "    entry.pop(\"type\", 0)\n",
    "    entry.pop(\"timeDiff\", 0)\n",
    "    coords.append([entry.pop(\"clientX\"), entry.pop(\"clientY\")])\n",
    "coords = np.array(coords)\n",
    "coords.shape\n",
    "X, Y = get_paths_coords(coords[None])\n",
    "X, Y"
   ]
  },
  {
   "cell_type": "code",
   "execution_count": 72,
   "metadata": {
    "hidden": true
   },
   "outputs": [],
   "source": [
    "from tqdm import tqdm\n",
    "\n",
    "def parse_data_into_coords(data_list):\n",
    "    \"\"\"Parses the data json dicttionary into coordinates.\n",
    "    \n",
    "    Args:\n",
    "        data_dict (list[dict]: The original json loaded as a list of dictionaries\n",
    "    \n",
    "    Returns:\n",
    "        coords_all (list[list[[X, Y]]]): nested list of paths (list of coordinates)\n",
    "    \"\"\"\n",
    "    # nested list of all lists of coordinates\n",
    "    coords_all = []\n",
    "    for session_dict in tqdm(data_list):\n",
    "        events = json.loads(session_dict[\"events\"])\n",
    "        # formatting so the list[dict] to list[[X, Y]]\n",
    "        coords = []\n",
    "        for entry in events:\n",
    "            # appending coordinate\n",
    "            if \"clientX\" in list(entry.keys()) and \"clientY\" in list(entry.keys()):\n",
    "                coords.append([entry.pop(\"clientX\"), entry.pop(\"clientY\")])\n",
    "        # appending that session's path (list of coordinates)\n",
    "        coords_all.append(coords)\n",
    "    return coords_all"
   ]
  },
  {
   "cell_type": "code",
   "execution_count": 73,
   "metadata": {
    "hidden": true
   },
   "outputs": [],
   "source": [
    "copied_data = copy.deepcopy(data)"
   ]
  },
  {
   "cell_type": "code",
   "execution_count": 74,
   "metadata": {
    "hidden": true
   },
   "outputs": [
    {
     "name": "stderr",
     "output_type": "stream",
     "text": [
      "100%|██████████████████████████████████| 83797/83797 [01:15<00:00, 1104.93it/s]\n"
     ]
    },
    {
     "data": {
      "text/plain": [
       "(83797,\n",
       " [[915, 154],\n",
       "  [915.5556030273438, 154.4444580078125],\n",
       "  [915, 154],\n",
       "  [915.5556030273438, 154.4444580078125],\n",
       "  [915, 154],\n",
       "  [915, 154]])"
      ]
     },
     "execution_count": 74,
     "metadata": {},
     "output_type": "execute_result"
    }
   ],
   "source": [
    "coords = parse_data_into_coords(copied_data)\n",
    "len(coords), coords[0]"
   ]
  },
  {
   "cell_type": "code",
   "execution_count": 75,
   "metadata": {
    "hidden": true
   },
   "outputs": [],
   "source": [
    "def plot_paths(paths):\n",
    "    \"\"\"Utility function to plot to an existing plt.figure.\n",
    "    \"\"\"\n",
    "    for path in paths:\n",
    "        X = []\n",
    "        Y = []\n",
    "\n",
    "        for point in path:\n",
    "            X.append(point[0])\n",
    "            Y.append(point[1])\n",
    "\n",
    "        plt.plot(X, Y)\n",
    "    return"
   ]
  },
  {
   "cell_type": "code",
   "execution_count": 79,
   "metadata": {
    "hidden": true
   },
   "outputs": [
    {
     "data": {
      "image/png": "[encoded data removed]",
      "text/plain": [
       "<Figure size 432x288 with 1 Axes>"
      ]
     },
     "metadata": {
      "needs_background": "light"
     },
     "output_type": "display_data"
    }
   ],
   "source": [
    "plt.figure(1)\n",
    "plt.title('user input')\n",
    "i = 30\n",
    "plot_paths(coords[:i])\n",
    "    "
   ]
  },
  {
   "cell_type": "code",
   "execution_count": null,
   "metadata": {
    "hidden": true
   },
   "outputs": [],
   "source": []
  }
 ],
 "metadata": {
  "kernelspec": {
   "display_name": "Python 3",
   "language": "python",
   "name": "python3"
  },
  "language_info": {
   "codemirror_mode": {
    "name": "ipython",
    "version": 3
   },
   "file_extension": ".py",
   "mimetype": "text/x-python",
   "name": "python",
   "nbconvert_exporter": "python",
   "pygments_lexer": "ipython3",
   "version": "3.6.9"
  }
 },
 "nbformat": 4,
 "nbformat_minor": 2
}
