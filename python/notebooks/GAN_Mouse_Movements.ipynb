{
 "cells": [
  {
   "cell_type": "code",
   "execution_count": null,
   "metadata": {
    "colab": {
     "base_uri": "https://localhost:8080/"
    },
    "id": "vBGP6Ys-blvA",
    "outputId": "c20632d9-11f4-4478-ccb4-e7ab456b8eb9"
   },
   "outputs": [
    {
     "name": "stdout",
     "output_type": "stream",
     "text": [
      "rm: cannot remove '/content/mouse_move_gan': No such file or directory\n",
      "Cloning into 'mouse_move_gan'...\n",
      "remote: Enumerating objects: 581, done.\u001b[K\n",
      "remote: Counting objects: 100% (581/581), done.\u001b[K\n",
      "remote: Compressing objects: 100% (372/372), done.\u001b[K\n",
      "remote: Total 581 (delta 343), reused 431 (delta 193), pack-reused 0\u001b[K\n",
      "Receiving objects: 100% (581/581), 33.63 MiB | 17.05 MiB/s, done.\n",
      "Resolving deltas: 100% (343/343), done.\n",
      "/content/mouse_move_gan\n",
      "Processing /content/mouse_move_gan\n",
      "Requirement already satisfied: numpy in /usr/local/lib/python3.6/dist-packages (from pymousegan==0.0.1) (1.19.4)\n",
      "Requirement already satisfied: tensorflow in /usr/local/lib/python3.6/dist-packages (from pymousegan==0.0.1) (2.4.0)\n",
      "Requirement already satisfied: tensorflow-addons in /usr/local/lib/python3.6/dist-packages (from pymousegan==0.0.1) (0.8.3)\n",
      "Requirement already satisfied: pandas in /usr/local/lib/python3.6/dist-packages (from pymousegan==0.0.1) (1.1.5)\n",
      "Requirement already satisfied: matplotlib in /usr/local/lib/python3.6/dist-packages (from pymousegan==0.0.1) (3.2.2)\n",
      "Requirement already satisfied: h5py~=2.10.0 in /usr/local/lib/python3.6/dist-packages (from tensorflow->pymousegan==0.0.1) (2.10.0)\n",
      "Requirement already satisfied: typing-extensions~=3.7.4 in /usr/local/lib/python3.6/dist-packages (from tensorflow->pymousegan==0.0.1) (3.7.4.3)\n",
      "Requirement already satisfied: protobuf>=3.9.2 in /usr/local/lib/python3.6/dist-packages (from tensorflow->pymousegan==0.0.1) (3.12.4)\n",
      "Requirement already satisfied: termcolor~=1.1.0 in /usr/local/lib/python3.6/dist-packages (from tensorflow->pymousegan==0.0.1) (1.1.0)\n",
      "Requirement already satisfied: absl-py~=0.10 in /usr/local/lib/python3.6/dist-packages (from tensorflow->pymousegan==0.0.1) (0.10.0)\n",
      "Requirement already satisfied: wheel~=0.35 in /usr/local/lib/python3.6/dist-packages (from tensorflow->pymousegan==0.0.1) (0.36.2)\n",
      "Requirement already satisfied: google-pasta~=0.2 in /usr/local/lib/python3.6/dist-packages (from tensorflow->pymousegan==0.0.1) (0.2.0)\n",
      "Requirement already satisfied: keras-preprocessing~=1.1.2 in /usr/local/lib/python3.6/dist-packages (from tensorflow->pymousegan==0.0.1) (1.1.2)\n",
      "Requirement already satisfied: wrapt~=1.12.1 in /usr/local/lib/python3.6/dist-packages (from tensorflow->pymousegan==0.0.1) (1.12.1)\n",
      "Requirement already satisfied: grpcio~=1.32.0 in /usr/local/lib/python3.6/dist-packages (from tensorflow->pymousegan==0.0.1) (1.32.0)\n",
      "Requirement already satisfied: astunparse~=1.6.3 in /usr/local/lib/python3.6/dist-packages (from tensorflow->pymousegan==0.0.1) (1.6.3)\n",
      "Requirement already satisfied: tensorboard~=2.4 in /usr/local/lib/python3.6/dist-packages (from tensorflow->pymousegan==0.0.1) (2.4.0)\n",
      "Requirement already satisfied: gast==0.3.3 in /usr/local/lib/python3.6/dist-packages (from tensorflow->pymousegan==0.0.1) (0.3.3)\n",
      "Requirement already satisfied: six~=1.15.0 in /usr/local/lib/python3.6/dist-packages (from tensorflow->pymousegan==0.0.1) (1.15.0)\n",
      "Requirement already satisfied: tensorflow-estimator<2.5.0,>=2.4.0rc0 in /usr/local/lib/python3.6/dist-packages (from tensorflow->pymousegan==0.0.1) (2.4.0)\n",
      "Requirement already satisfied: flatbuffers~=1.12.0 in /usr/local/lib/python3.6/dist-packages (from tensorflow->pymousegan==0.0.1) (1.12)\n",
      "Requirement already satisfied: opt-einsum~=3.3.0 in /usr/local/lib/python3.6/dist-packages (from tensorflow->pymousegan==0.0.1) (3.3.0)\n",
      "Requirement already satisfied: typeguard in /usr/local/lib/python3.6/dist-packages (from tensorflow-addons->pymousegan==0.0.1) (2.7.1)\n",
      "Requirement already satisfied: python-dateutil>=2.7.3 in /usr/local/lib/python3.6/dist-packages (from pandas->pymousegan==0.0.1) (2.8.1)\n",
      "Requirement already satisfied: pytz>=2017.2 in /usr/local/lib/python3.6/dist-packages (from pandas->pymousegan==0.0.1) (2018.9)\n",
      "Requirement already satisfied: pyparsing!=2.0.4,!=2.1.2,!=2.1.6,>=2.0.1 in /usr/local/lib/python3.6/dist-packages (from matplotlib->pymousegan==0.0.1) (2.4.7)\n",
      "Requirement already satisfied: cycler>=0.10 in /usr/local/lib/python3.6/dist-packages (from matplotlib->pymousegan==0.0.1) (0.10.0)\n",
      "Requirement already satisfied: kiwisolver>=1.0.1 in /usr/local/lib/python3.6/dist-packages (from matplotlib->pymousegan==0.0.1) (1.3.1)\n",
      "Requirement already satisfied: setuptools in /usr/local/lib/python3.6/dist-packages (from protobuf>=3.9.2->tensorflow->pymousegan==0.0.1) (51.0.0)\n",
      "Requirement already satisfied: markdown>=2.6.8 in /usr/local/lib/python3.6/dist-packages (from tensorboard~=2.4->tensorflow->pymousegan==0.0.1) (3.3.3)\n",
      "Requirement already satisfied: tensorboard-plugin-wit>=1.6.0 in /usr/local/lib/python3.6/dist-packages (from tensorboard~=2.4->tensorflow->pymousegan==0.0.1) (1.7.0)\n",
      "Requirement already satisfied: werkzeug>=0.11.15 in /usr/local/lib/python3.6/dist-packages (from tensorboard~=2.4->tensorflow->pymousegan==0.0.1) (1.0.1)\n",
      "Requirement already satisfied: requests<3,>=2.21.0 in /usr/local/lib/python3.6/dist-packages (from tensorboard~=2.4->tensorflow->pymousegan==0.0.1) (2.23.0)\n",
      "Requirement already satisfied: google-auth<2,>=1.6.3 in /usr/local/lib/python3.6/dist-packages (from tensorboard~=2.4->tensorflow->pymousegan==0.0.1) (1.17.2)\n",
      "Requirement already satisfied: google-auth-oauthlib<0.5,>=0.4.1 in /usr/local/lib/python3.6/dist-packages (from tensorboard~=2.4->tensorflow->pymousegan==0.0.1) (0.4.2)\n",
      "Requirement already satisfied: importlib-metadata; python_version < \"3.8\" in /usr/local/lib/python3.6/dist-packages (from markdown>=2.6.8->tensorboard~=2.4->tensorflow->pymousegan==0.0.1) (3.3.0)\n",
      "Requirement already satisfied: urllib3!=1.25.0,!=1.25.1,<1.26,>=1.21.1 in /usr/local/lib/python3.6/dist-packages (from requests<3,>=2.21.0->tensorboard~=2.4->tensorflow->pymousegan==0.0.1) (1.24.3)\n",
      "Requirement already satisfied: idna<3,>=2.5 in /usr/local/lib/python3.6/dist-packages (from requests<3,>=2.21.0->tensorboard~=2.4->tensorflow->pymousegan==0.0.1) (2.10)\n",
      "Requirement already satisfied: chardet<4,>=3.0.2 in /usr/local/lib/python3.6/dist-packages (from requests<3,>=2.21.0->tensorboard~=2.4->tensorflow->pymousegan==0.0.1) (3.0.4)\n",
      "Requirement already satisfied: certifi>=2017.4.17 in /usr/local/lib/python3.6/dist-packages (from requests<3,>=2.21.0->tensorboard~=2.4->tensorflow->pymousegan==0.0.1) (2020.12.5)\n",
      "Requirement already satisfied: cachetools<5.0,>=2.0.0 in /usr/local/lib/python3.6/dist-packages (from google-auth<2,>=1.6.3->tensorboard~=2.4->tensorflow->pymousegan==0.0.1) (4.2.0)\n",
      "Requirement already satisfied: pyasn1-modules>=0.2.1 in /usr/local/lib/python3.6/dist-packages (from google-auth<2,>=1.6.3->tensorboard~=2.4->tensorflow->pymousegan==0.0.1) (0.2.8)\n",
      "Requirement already satisfied: rsa<5,>=3.1.4; python_version >= \"3\" in /usr/local/lib/python3.6/dist-packages (from google-auth<2,>=1.6.3->tensorboard~=2.4->tensorflow->pymousegan==0.0.1) (4.6)\n",
      "Requirement already satisfied: requests-oauthlib>=0.7.0 in /usr/local/lib/python3.6/dist-packages (from google-auth-oauthlib<0.5,>=0.4.1->tensorboard~=2.4->tensorflow->pymousegan==0.0.1) (1.3.0)\n",
      "Requirement already satisfied: zipp>=0.5 in /usr/local/lib/python3.6/dist-packages (from importlib-metadata; python_version < \"3.8\"->markdown>=2.6.8->tensorboard~=2.4->tensorflow->pymousegan==0.0.1) (3.4.0)\n",
      "Requirement already satisfied: pyasn1<0.5.0,>=0.4.6 in /usr/local/lib/python3.6/dist-packages (from pyasn1-modules>=0.2.1->google-auth<2,>=1.6.3->tensorboard~=2.4->tensorflow->pymousegan==0.0.1) (0.4.8)\n",
      "Requirement already satisfied: oauthlib>=3.0.0 in /usr/local/lib/python3.6/dist-packages (from requests-oauthlib>=0.7.0->google-auth-oauthlib<0.5,>=0.4.1->tensorboard~=2.4->tensorflow->pymousegan==0.0.1) (3.1.0)\n",
      "Building wheels for collected packages: pymousegan\n",
      "  Building wheel for pymousegan (setup.py) ... \u001b[?25l\u001b[?25hdone\n",
      "  Created wheel for pymousegan: filename=pymousegan-0.0.1-cp36-none-any.whl size=21828 sha256=4ecf6b9c4f323e4879cbaa751d42ef5800a14d97c258f54f56cb8523b8443ecf\n",
      "  Stored in directory: /tmp/pip-ephem-wheel-cache-wz6h11_j/wheels/cf/a1/ad/f73bd409ec8c6c159e81d664f6837c86ae7a7f9c63aae218c5\n",
      "Successfully built pymousegan\n",
      "Installing collected packages: pymousegan\n",
      "Successfully installed pymousegan-0.0.1\n",
      "/content\n",
      "Name: pymousegan\n",
      "Version: 0.0.1\n",
      "Summary: Library for models for generating random mouse movements\n",
      "Home-page: UNKNOWN\n",
      "Author: Joseph Chen\n",
      "Author-email: jchen42703@gmail.com\n",
      "License: MIT\n",
      "Location: /usr/local/lib/python3.6/dist-packages\n",
      "Requires: numpy, tensorflow-addons, tensorflow, matplotlib, pandas\n",
      "Required-by: \n"
     ]
    }
   ],
   "source": [
    "!rm -r /content/mouse_move_gan\n",
    "!git clone https://764bf8496bb32ddc2d4153fd96508a5e971f7834@github.com/jchen42703/mouse_move_gan.git\n",
    "%cd mouse_move_gan\n",
    "!pip install .\n",
    "%cd /content\n",
    "!pip show pymousegan"
   ]
  },
  {
   "cell_type": "code",
   "execution_count": null,
   "metadata": {
    "colab": {
     "base_uri": "https://localhost:8080/"
    },
    "id": "IjENLnO99xqo",
    "outputId": "fbd673e1-d59c-4300-aaa2-77ecab440759"
   },
   "outputs": [
    {
     "name": "stdout",
     "output_type": "stream",
     "text": [
      "Wed Dec 23 07:12:43 2020       \n",
      "+-----------------------------------------------------------------------------+\n",
      "| NVIDIA-SMI 460.27.04    Driver Version: 418.67       CUDA Version: 10.1     |\n",
      "|-------------------------------+----------------------+----------------------+\n",
      "| GPU  Name        Persistence-M| Bus-Id        Disp.A | Volatile Uncorr. ECC |\n",
      "| Fan  Temp  Perf  Pwr:Usage/Cap|         Memory-Usage | GPU-Util  Compute M. |\n",
      "|                               |                      |               MIG M. |\n",
      "|===============================+======================+======================|\n",
      "|   0  Tesla P100-PCIE...  Off  | 00000000:00:04.0 Off |                    0 |\n",
      "| N/A   33C    P0    25W / 250W |      0MiB / 16280MiB |      0%      Default |\n",
      "|                               |                      |                 ERR! |\n",
      "+-------------------------------+----------------------+----------------------+\n",
      "                                                                               \n",
      "+-----------------------------------------------------------------------------+\n",
      "| Processes:                                                                  |\n",
      "|  GPU   GI   CI        PID   Type   Process name                  GPU Memory |\n",
      "|        ID   ID                                                   Usage      |\n",
      "|=============================================================================|\n",
      "|  No running processes found                                                 |\n",
      "+-----------------------------------------------------------------------------+\n"
     ]
    }
   ],
   "source": [
    "!nvidia-smi"
   ]
  },
  {
   "cell_type": "code",
   "execution_count": null,
   "metadata": {
    "id": "OZEW1yJSjHjg"
   },
   "outputs": [],
   "source": [
    "!rm -r model_out/"
   ]
  },
  {
   "cell_type": "code",
   "execution_count": null,
   "metadata": {
    "colab": {
     "base_uri": "https://localhost:8080/"
    },
    "id": "k2TrRx9xXJp8",
    "outputId": "41ab9c94-3df5-4e75-82e0-3e3335008e90"
   },
   "outputs": [
    {
     "data": {
      "text/plain": [
       "((10963, 100, 3), 0.0, 1.0)"
      ]
     },
     "execution_count": 1,
     "metadata": {
      "tags": []
     },
     "output_type": "execute_result"
    }
   ],
   "source": [
    "# data\n",
    "import numpy as np\n",
    "coords_dt = np.load('/content/mouse_move_gan/data/coords_dt.npy')\n",
    "coords_dt.shape, coords_dt.min(), coords_dt.max()"
   ]
  },
  {
   "cell_type": "markdown",
   "metadata": {
    "id": "3uompeQAvnjh"
   },
   "source": [
    "## Download weights"
   ]
  },
  {
   "cell_type": "code",
   "execution_count": null,
   "metadata": {
    "colab": {
     "base_uri": "https://localhost:8080/"
    },
    "id": "zvpqpkzLvptk",
    "outputId": "12f8845d-faa1-48be-f4db-8257ca0d805e"
   },
   "outputs": [
    {
     "name": "stdout",
     "output_type": "stream",
     "text": [
      "Downloading 1kQtjxP_WQrjx8WbL_cF4dX0DY8T7ZTRc into ./model_95001_105001.zip... Done.\n",
      "Unzipping...Done.\n"
     ]
    }
   ],
   "source": [
    "from google_drive_downloader import GoogleDriveDownloader as gdd\n",
    "# file_id = '1M58-nFuFG4g-KKKpkd-iIYxg5gn4aNfd'\n",
    "# gdd.download_file_from_google_drive(file_id=file_id,\n",
    "#                                     dest_path='./model_105001_125001.zip',\n",
    "#                                     unzip=True)\n",
    "# file_id = '1Do9EeBK_jZ1YIs_acO2YCSlSfMcbNjN5'\n",
    "# gdd.download_file_from_google_drive(file_id=file_id,\n",
    "#                                     dest_path='./model_165001_185001.zip',\n",
    "#                                     unzip=True)\n",
    "\n",
    "# file_id = '1kQtjxP_WQrjx8WbL_cF4dX0DY8T7ZTRc'\n",
    "# gdd.download_file_from_google_drive(file_id=file_id,\n",
    "#                                     dest_path='./model_95001_105001.zip',\n",
    "#                                     unzip=True)"
   ]
  },
  {
   "cell_type": "code",
   "execution_count": null,
   "metadata": {
    "id": "ZN2BTlRewEAb"
   },
   "outputs": [],
   "source": [
    "model_paths = {\n",
    "    'discrim_path': '/content/model_out/discrim_105001_weights.h5',\n",
    "    'gen_path': '/content/model_out/gen_105001_weights.h5',\n",
    "    'combined_path': '/content/model_out/combined_105001_weights.h5'\n",
    "}"
   ]
  },
  {
   "cell_type": "markdown",
   "metadata": {
    "id": "Yesz7Jt3CdU4"
   },
   "source": [
    "# GAN"
   ]
  },
  {
   "cell_type": "code",
   "execution_count": null,
   "metadata": {
    "colab": {
     "base_uri": "https://localhost:8080/"
    },
    "id": "n2RjF6YSCer8",
    "outputId": "ab804d11-4784-4d0c-949a-1f47497b1aeb"
   },
   "outputs": [
    {
     "name": "stdout",
     "output_type": "stream",
     "text": [
      "Creating a discrminator with 2 LSTM layers.\n",
      "Creating a generator with 2 LSTM layers.\n",
      "Model: \"bidirectional_lstm_discriminator\"\n",
      "_________________________________________________________________\n",
      "Layer (type)                 Output Shape              Param #   \n",
      "=================================================================\n",
      "input_4 (InputLayer)         [(None, 100, 3)]          0         \n",
      "_________________________________________________________________\n",
      "bidirectional_4 (Bidirection (None, 100, 512)          532480    \n",
      "_________________________________________________________________\n",
      "bidirectional_5 (Bidirection (None, 256)               656384    \n",
      "_________________________________________________________________\n",
      "minibatch_discrimination_1 ( (None, 266)               7680      \n",
      "_________________________________________________________________\n",
      "dense_1 (Dense)              (None, 1)                 267       \n",
      "=================================================================\n",
      "Total params: 1,196,811\n",
      "Trainable params: 0\n",
      "Non-trainable params: 1,196,811\n",
      "_________________________________________________________________\n",
      "Model: \"bilstm_generator\"\n",
      "_________________________________________________________________\n",
      "Layer (type)                 Output Shape              Param #   \n",
      "=================================================================\n",
      "input_5 (InputLayer)         [(None, 100, 100)]        0         \n",
      "_________________________________________________________________\n",
      "bidirectional_6 (Bidirection (None, 100, 512)          731136    \n",
      "_________________________________________________________________\n",
      "bidirectional_7 (Bidirection (None, 100, 256)          656384    \n",
      "_________________________________________________________________\n",
      "lstm_out (LSTM)              (None, 100, 3)            3120      \n",
      "=================================================================\n",
      "Total params: 1,390,640\n",
      "Trainable params: 1,390,640\n",
      "Non-trainable params: 0\n",
      "_________________________________________________________________\n"
     ]
    },
    {
     "data": {
      "text/plain": [
       "(None, None)"
      ]
     },
     "execution_count": 8,
     "metadata": {
      "tags": []
     },
     "output_type": "execute_result"
    }
   ],
   "source": [
    "import numpy as np\n",
    "import tensorflow as tf\n",
    "from tensorflow.keras.optimizers import Adam\n",
    "from pymousegan.models.gans import AdditiveBasicGAN\n",
    "from pymousegan.models.lstm import BidirectionalLSTMDecoderGenerator, \\\n",
    "  LSTMDecoderGenerator, BidirectionalLSTMDiscriminator\n",
    "from pymousegan.io.data_aug import scale_translate_v2, scale_translate_v3\n",
    "\n",
    "seed = 420\n",
    "np.random.seed(seed)\n",
    "tf.random.set_seed(seed)\n",
    "\n",
    "seq_shape = (100, 3)\n",
    "noise_size = (100, 100)\n",
    "d_opt = Adam(lr=1e-4, beta_1=0.5)\n",
    "g_opt = Adam(lr=1e-5, beta_1=0.5)\n",
    "\n",
    "def unique_batch_reflect(real_seqs: np.array):\n",
    "    \"\"\"Reflects but makes each path in the sequence have unique reflection\n",
    "    factor. Slower than reflect but may return more diverse paths.\n",
    "    \"\"\"\n",
    "    reflected = np.zeros(real_seqs.shape)\n",
    "    for i, path in enumerate(real_seqs):\n",
    "        reflectX = np.random.choice([-1, 1])\n",
    "        reflectY = np.random.choice([-1, 1])\n",
    "        reflected[i] = path * np.array([reflectX, reflectY, 1])\n",
    "    return reflected\n",
    "\n",
    "# model_paths = {\n",
    "#     'discrim_path': '/content/model_out/discrim_105001_weights.h5',\n",
    "#     'gen_path': '/content/model_out/gen_105001_weights.h5',\n",
    "#     'combined_path': '/content/model_out/combined_105001_weights.h5'\n",
    "# }\n",
    "model_paths = {}\n",
    "\n",
    "discrim = BidirectionalLSTMDiscriminator(seq_shape, hidden_units_list=[256, 128],\n",
    "                                         minibatch_discrim_units=10, minibatch_discrim_row_size=3)\n",
    "generator = BidirectionalLSTMDecoderGenerator(noise_size, seq_shape,\n",
    "                                              hidden_units_list=[256, 128],\n",
    "                                              output_act='tanh')\n",
    "\n",
    "gan = AdditiveBasicGAN(discrim, generator, d_opt, g_opt, data_aug=unique_batch_reflect,\n",
    "                       model_paths=model_paths)\n",
    "\n",
    "gan.discriminator.model.summary(), gan.generator.model.summary()"
   ]
  },
  {
   "cell_type": "code",
   "execution_count": null,
   "metadata": {
    "id": "Xl01mTpWLW_v"
   },
   "outputs": [],
   "source": [
    "!rm -r model_out/"
   ]
  },
  {
   "cell_type": "code",
   "execution_count": null,
   "metadata": {
    "id": "6NDFhjKfC1WA"
   },
   "outputs": [],
   "source": [
    "!mkdir /content/model_out/\n",
    "gan.train(coords_dt, num_epochs=15001, batch_size=16, sample_interval=100, output_dir='/content/model_out', save_format='h5')"
   ]
  },
  {
   "cell_type": "code",
   "execution_count": null,
   "metadata": {
    "id": "zftlueFYDGFU"
   },
   "outputs": [],
   "source": [
    "!mkdir /content/model_out/\n",
    "gan.train(coords_dt, num_epochs=35001, batch_size=16, sample_interval=100, output_dir='/content/model_out', save_format='h5', initial_epoch=15001)"
   ]
  },
  {
   "cell_type": "code",
   "execution_count": null,
   "metadata": {
    "id": "iX4qcZ8DNRqR"
   },
   "outputs": [],
   "source": [
    "!mkdir /content/model_out/\n",
    "gan.train(coords_dt, num_epochs=55001, batch_size=16, sample_interval=100, output_dir='/content/model_out', save_format='h5', initial_epoch=35001)"
   ]
  },
  {
   "cell_type": "code",
   "execution_count": null,
   "metadata": {
    "id": "uxWvxkSsXiI9"
   },
   "outputs": [],
   "source": [
    "!mkdir /content/model_out/\n",
    "gan.train(coords_dt, num_epochs=75001, batch_size=16, sample_interval=100, output_dir='/content/model_out', save_format='h5', initial_epoch=55001)"
   ]
  },
  {
   "cell_type": "code",
   "execution_count": null,
   "metadata": {
    "id": "W5zJ8YMLhPCG"
   },
   "outputs": [],
   "source": [
    "!mkdir /content/model_out/\n",
    "gan.train(coords_dt, num_epochs=95001, batch_size=16, sample_interval=100, output_dir='/content/model_out', save_format='h5', initial_epoch=75001)"
   ]
  },
  {
   "cell_type": "code",
   "execution_count": null,
   "metadata": {
    "id": "cn5ZRakWq5Zy"
   },
   "outputs": [],
   "source": [
    "!mkdir /content/model_out/\n",
    "gan.train(coords_dt, num_epochs=125001, batch_size=16, sample_interval=100, output_dir='/content/model_out', save_format='h5', initial_epoch=95001)"
   ]
  },
  {
   "cell_type": "code",
   "execution_count": null,
   "metadata": {
    "id": "3FNzDGzR5Z5g"
   },
   "outputs": [],
   "source": [
    "!mkdir /content/model_out/\n",
    "gan.train(coords_dt, num_epochs=155001, batch_size=16, sample_interval=100, output_dir='/content/model_out', save_format='h5', initial_epoch=125001)"
   ]
  },
  {
   "cell_type": "code",
   "execution_count": null,
   "metadata": {
    "id": "dkwYBgegH40b"
   },
   "outputs": [],
   "source": [
    "!mkdir /content/model_out/\n",
    "gan.train(coords_dt, num_epochs=185001, batch_size=16, sample_interval=100, output_dir='/content/model_out', save_format='h5', initial_epoch=155001)"
   ]
  },
  {
   "cell_type": "code",
   "execution_count": null,
   "metadata": {
    "id": "IcHIOpnti1u7"
   },
   "outputs": [],
   "source": [
    "!zip -r model_0_15001.zip model_out/\n",
    "# !zip -r model_15001_35001.zip model_out/\n",
    "# !zip -r model_35001_55001.zip model_out/\n",
    "# !zip -r model_55001_75001.zip model_out/\n",
    "# !zip -r model_75001_95001.zip model_out/\n",
    "# !zip -r model_125001_155001.zip model_out/\n",
    "# !zip -r model_155001_185001.zip model_out/\n",
    "\n",
    "# !zip -r model_0_5001.zip model_out/\n",
    "# !zip -r model_15001_25001.zip model_out/\n",
    "# !zip -r model_25001_35001.zip model_out/\n",
    "# !zip -r model_35001_45001.zip model_out/\n",
    "# !zip -r model_45001_55001.zip model_out/\n",
    "# !zip -r model_55001_65001.zip model_out/\n",
    "# !zip -r model_65001_75001.zip model_out/\n",
    "# !zip -r model_75001_85001.zip model_out/\n",
    "# !zip -r model_95001_105001.zip model_out/\n",
    "# !zip -r model_105001_125001.zip model_out/\n",
    "# !zip -r model_125001_145001.zip model_out/\n",
    "# !zip -r model_145001_165001.zip model_out/\n",
    "# !zip -r model_165001_185001.zip model_out/\n",
    "# !zip -r model_185001_205001.zip model_out/\n",
    "# !zip -r model_205001_235001.zip model_out/\n",
    "# !zip -r model_235001_265001.zip model_out/\n"
   ]
  },
  {
   "cell_type": "code",
   "execution_count": null,
   "metadata": {
    "id": "p-YlAM6AqPsC"
   },
   "outputs": [],
   "source": [
    "#### AUTHENTICATION ###\n",
    "# saving weights and uploading them to gdrive\n",
    "from pydrive.auth import GoogleAuth\n",
    "from pydrive.drive import GoogleDrive\n",
    "from google.colab import auth\n",
    "from oauth2client.client import GoogleCredentials\n",
    "import zipfile, os\n",
    "\n",
    "# 1. Authenticate and create the PyDrive client.\n",
    "auth.authenticate_user()\n",
    "gauth = GoogleAuth()\n",
    "gauth.credentials = GoogleCredentials.get_application_default()\n",
    "drive = GoogleDrive(gauth)\n"
   ]
  },
  {
   "cell_type": "code",
   "execution_count": null,
   "metadata": {
    "id": "E3IiWJJSqa8v"
   },
   "outputs": [],
   "source": [
    "folders = {\n",
    "    'Weights': '18KXnIoGhXYSb0l6qkjQmvphDpkiJ8yaa',\n",
    "    'BasicGAN': '1jz_AOYPyg3Oco6KpnS_MOKQUzg3ZcUXB',\n",
    "    'AdditiveBasicGAN': '1WfdGeWb39l_SfkZE9vV23zuZ7jAQaqRv'\n",
    "}\n",
    "\n",
    "def upload_file(fname, folder_id=folders['Weights']):\n",
    "  file_dict = {'title': fname, 'parents': [{'kind': 'drive#fileLink', 'id': folder_id}]}\n",
    "  f = drive.CreateFile(file_dict)\n",
    "  f.SetContentFile(fname)\n",
    "  f.Upload()\n",
    "  print('Uploaded: {0}'.format(fname))\n"
   ]
  },
  {
   "cell_type": "code",
   "execution_count": null,
   "metadata": {
    "colab": {
     "base_uri": "https://localhost:8080/"
    },
    "id": "5GhTok9KqgjX",
    "outputId": "de2e9374-96f6-4d42-eabf-c3144b34e9af"
   },
   "outputs": [
    {
     "name": "stdout",
     "output_type": "stream",
     "text": [
      "Uploaded: model_0_15001.zip\n"
     ]
    }
   ],
   "source": [
    "fname = 'model_0_15001.zip'\n",
    "# fname = 'model_15001_35001.zip'\n",
    "# fname = 'model_35001_55001.zip'\n",
    "# fname = 'model_55001_75001.zip'\n",
    "# fname = 'model_75001_95001.zip'\n",
    "# fname = 'model_95001_125001.zip'\n",
    "# fname = 'model_125001_155001.zip'\n",
    "# fname = 'model_155001_185001.zip'\n",
    "\n",
    "# fname = 'model_0_5001.zip'\n",
    "# fname = 'model_5001_15001.zip'\n",
    "# fname = 'model_15001_25001.zip'\n",
    "# fname = 'model_25001_35001.zip'\n",
    "# fname = 'model_35001_45001.zip'\n",
    "# fname = 'model_45001_55001.zip'\n",
    "# fname = 'model_55001_65001.zip'\n",
    "# fname = 'model_65001_75001.zip'\n",
    "# fname = 'model_75001_85001.zip'\n",
    "# fname = 'model_75001_95001.zip'\n",
    "# fname = 'model_125001_145001.zip'\n",
    "# fname = 'model_145001_165001.zip'\n",
    "# fname = 'model_165001_185001.zip'\n",
    "# fname = 'model_185001_205001.zip'\n",
    "# fname = 'model_205001_235001.zip'\n",
    "# fname = 'model_235001_265001.zip'\n",
    "\n",
    "upload_file(fname, folders['AdditiveBasicGAN'])"
   ]
  },
  {
   "cell_type": "code",
   "execution_count": null,
   "metadata": {
    "id": "LMrsolpXckni"
   },
   "outputs": [],
   "source": []
  }
 ],
 "metadata": {
  "accelerator": "GPU",
  "colab": {
   "collapsed_sections": [
    "3uompeQAvnjh"
   ],
   "name": "[Not RGAN] GAN Mouse Movements.ipynb",
   "provenance": []
  },
  "kernelspec": {
   "display_name": "Python 3",
   "language": "python",
   "name": "python3"
  },
  "language_info": {
   "codemirror_mode": {
    "name": "ipython",
    "version": 3
   },
   "file_extension": ".py",
   "mimetype": "text/x-python",
   "name": "python",
   "nbconvert_exporter": "python",
   "pygments_lexer": "ipython3",
   "version": "3.8.8"
  },
  "toc": {
   "base_numbering": 1,
   "nav_menu": {},
   "number_sections": true,
   "sideBar": true,
   "skip_h1_title": false,
   "title_cell": "Table of Contents",
   "title_sidebar": "Contents",
   "toc_cell": false,
   "toc_position": {},
   "toc_section_display": true,
   "toc_window_display": false
  }
 },
 "nbformat": 4,
 "nbformat_minor": 1
}
