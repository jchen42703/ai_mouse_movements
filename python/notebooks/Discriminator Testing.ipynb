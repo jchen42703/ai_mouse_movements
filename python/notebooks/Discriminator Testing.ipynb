{
 "cells": [
  {
   "cell_type": "code",
   "execution_count": 1,
   "id": "heated-mexican",
   "metadata": {},
   "outputs": [
    {
     "name": "stdout",
     "output_type": "stream",
     "text": [
      "Creating a discrminator with 2 LSTM layers.\n",
      "Model: \"bidirectional_lstm_discriminator\"\n",
      "_________________________________________________________________\n",
      "Layer (type)                 Output Shape              Param #   \n",
      "=================================================================\n",
      "input_1 (InputLayer)         [(None, 100, 3)]          0         \n",
      "_________________________________________________________________\n",
      "bidirectional (Bidirectional (None, 100, 512)          532480    \n",
      "_________________________________________________________________\n",
      "bidirectional_1 (Bidirection (None, 256)               656384    \n",
      "_________________________________________________________________\n",
      "minibatch_discrimination (Mi (None, 266)               7680      \n",
      "_________________________________________________________________\n",
      "dense (Dense)                (None, 1)                 267       \n",
      "=================================================================\n",
      "Total params: 1,196,811\n",
      "Trainable params: 1,196,811\n",
      "Non-trainable params: 0\n",
      "_________________________________________________________________\n"
     ]
    }
   ],
   "source": [
    "import tensorflow as tf\n",
    "from pymousegan.models.lstm import BidirectionalLSTMDiscriminator\n",
    "\n",
    "seq_shape = (100, 3)\n",
    "noise_size = (100, 100)\n",
    "\n",
    "discrim = BidirectionalLSTMDiscriminator(seq_shape, hidden_units_list=[256, 128],\n",
    "                                         minibatch_discrim_units=10, minibatch_discrim_row_size=3)\n",
    "\n",
    "discrim.model.summary()"
   ]
  },
  {
   "cell_type": "code",
   "execution_count": 2,
   "id": "separate-estonia",
   "metadata": {},
   "outputs": [],
   "source": [
    "model_path = \"/home/joseph/Coding/work/ai_mouse_movements/js/src/discrim_model/discrim_15001_weights.h5\"\n",
    "discrim.model.load_weights(model_path)"
   ]
  },
  {
   "cell_type": "code",
   "execution_count": 3,
   "id": "extreme-corpus",
   "metadata": {},
   "outputs": [
    {
     "name": "stdout",
     "output_type": "stream",
     "text": [
      "Model: \"bidirectional_lstm_discriminator\"\n",
      "_________________________________________________________________\n",
      "Layer (type)                 Output Shape              Param #   \n",
      "=================================================================\n",
      "input_1 (InputLayer)         [(None, 100, 3)]          0         \n",
      "_________________________________________________________________\n",
      "bidirectional (Bidirectional (None, 100, 512)          532480    \n",
      "_________________________________________________________________\n",
      "bidirectional_1 (Bidirection (None, 256)               656384    \n",
      "_________________________________________________________________\n",
      "minibatch_discrimination (Mi (None, 266)               7680      \n",
      "_________________________________________________________________\n",
      "dense (Dense)                (None, 1)                 267       \n",
      "=================================================================\n",
      "Total params: 1,196,811\n",
      "Trainable params: 1,196,811\n",
      "Non-trainable params: 0\n",
      "_________________________________________________________________\n"
     ]
    }
   ],
   "source": [
    "discrim.model.summary()"
   ]
  },
  {
   "cell_type": "markdown",
   "id": "several-chemistry",
   "metadata": {},
   "source": [
    "# Mass Testing Discriminator Performance on Generator\n",
    "- Is it just predicting \"Fake\" for everything?"
   ]
  },
  {
   "cell_type": "code",
   "execution_count": 18,
   "id": "fantastic-identification",
   "metadata": {},
   "outputs": [
    {
     "data": {
      "text/plain": [
       "(20141, 100, 3)"
      ]
     },
     "execution_count": 18,
     "metadata": {},
     "output_type": "execute_result"
    }
   ],
   "source": [
    "import numpy as np\n",
    "real_data_path = '/home/joseph/Desktop/DL/ai_mouse_movements/preprocessed_1250_elapsed_thresh.npy'\n",
    "real_data = np.load(real_data_path)\n",
    "real_data.shape"
   ]
  },
  {
   "cell_type": "code",
   "execution_count": 23,
   "id": "second-howard",
   "metadata": {
    "scrolled": true
   },
   "outputs": [
    {
     "name": "stderr",
     "output_type": "stream",
     "text": [
      "100%|██████████| 2048/2048 [02:26<00:00, 13.95it/s]\n"
     ]
    }
   ],
   "source": [
    "from tqdm import tqdm\n",
    "stats = []\n",
    "for coord in tqdm(real_data[:2048]):\n",
    "    out = discrim.model.predict(coord[None])\n",
    "    stats.append(out)"
   ]
  },
  {
   "cell_type": "code",
   "execution_count": 28,
   "id": "maritime-warrior",
   "metadata": {},
   "outputs": [
    {
     "data": {
      "text/plain": [
       "0.9413480758666992"
      ]
     },
     "execution_count": 28,
     "metadata": {},
     "output_type": "execute_result"
    }
   ],
   "source": [
    "stats = [float(out) for out in stats]\n",
    "stats[0]"
   ]
  },
  {
   "cell_type": "code",
   "execution_count": 29,
   "id": "periodic-conservation",
   "metadata": {},
   "outputs": [
    {
     "data": {
      "text/plain": [
       "(array([  12.,    5.,   14.,  291., 1128.,  395.,  132.,   43.,   22.,\n",
       "           6.]),\n",
       " array([0.9241724 , 0.92830185, 0.9324313 , 0.93656076, 0.94069021,\n",
       "        0.94481966, 0.94894911, 0.95307856, 0.95720801, 0.96133747,\n",
       "        0.96546692]),\n",
       " <BarContainer object of 10 artists>)"
      ]
     },
     "execution_count": 29,
     "metadata": {},
     "output_type": "execute_result"
    },
    {
     "data": {
      "image/png": "[encoded data removed]",
      "text/plain": [
       "<Figure size 432x288 with 1 Axes>"
      ]
     },
     "metadata": {
      "needs_background": "light"
     },
     "output_type": "display_data"
    }
   ],
   "source": [
    "import matplotlib.pyplot as plt\n",
    "plt.hist(stats)"
   ]
  },
  {
   "cell_type": "code",
   "execution_count": null,
   "id": "combined-context",
   "metadata": {},
   "outputs": [],
   "source": [
    "# Discriminator overfitted to predict \"Real for everything..?\"\n",
    "# Need to try more fake paths"
   ]
  },
  {
   "cell_type": "markdown",
   "id": "posted-queens",
   "metadata": {},
   "source": [
    "## Testing Good Path but Bad Acceleration"
   ]
  },
  {
   "cell_type": "code",
   "execution_count": 30,
   "id": "single-visibility",
   "metadata": {},
   "outputs": [
    {
     "data": {
      "text/plain": [
       "dict_keys(['coords'])"
      ]
     },
     "execution_count": 30,
     "metadata": {},
     "output_type": "execute_result"
    }
   ],
   "source": [
    "import json\n",
    "with open(\"/home/joseph/Coding/work/ai_mouse_movements/js/src/discrim_model/test.json\", \"rb\") as f:\n",
    "    test_data = json.load(f)\n",
    "test_data.keys()"
   ]
  },
  {
   "cell_type": "code",
   "execution_count": 39,
   "id": "excess-quarterly",
   "metadata": {},
   "outputs": [
    {
     "name": "stderr",
     "output_type": "stream",
     "text": [
      "100%|██████████| 2048/2048 [02:28<00:00, 13.81it/s]\n"
     ]
    },
    {
     "data": {
      "text/plain": [
       "[0.9652359485626221,\n",
       " 0.9655004143714905,\n",
       " 0.9657687544822693,\n",
       " 0.9647606611251831,\n",
       " 0.9649791717529297]"
      ]
     },
     "execution_count": 39,
     "metadata": {},
     "output_type": "execute_result"
    }
   ],
   "source": [
    "# Overfitting?\n",
    "from tqdm import tqdm\n",
    "stats = []\n",
    "for coord in tqdm(real_data[:2048]):\n",
    "    new_coords = [[xyt[0], xyt[1], 1] for xyt in coord]\n",
    "    new_coords = np.asarray(new_coords)\n",
    "    out = discrim.model.predict(new_coords[None])\n",
    "    stats.append(float(out))\n",
    "stats[:5]"
   ]
  },
  {
   "cell_type": "code",
   "execution_count": 40,
   "id": "removed-research",
   "metadata": {
    "scrolled": true
   },
   "outputs": [
    {
     "data": {
      "text/plain": [
       "(array([   3.,    6.,    6.,   14.,   31.,   85.,  253., 1037.,  573.,\n",
       "          40.]),\n",
       " array([0.96414679, 0.96432559, 0.9645044 , 0.9646832 , 0.964862  ,\n",
       "        0.9650408 , 0.9652196 , 0.96539841, 0.96557721, 0.96575601,\n",
       "        0.96593481]),\n",
       " <BarContainer object of 10 artists>)"
      ]
     },
     "execution_count": 40,
     "metadata": {},
     "output_type": "execute_result"
    },
    {
     "data": {
      "image/png": "[encoded data removed]",
      "text/plain": [
       "<Figure size 432x288 with 1 Axes>"
      ]
     },
     "metadata": {
      "needs_background": "light"
     },
     "output_type": "display_data"
    }
   ],
   "source": [
    "import matplotlib.pyplot as plt\n",
    "plt.hist(stats)"
   ]
  },
  {
   "cell_type": "markdown",
   "id": "potential-madison",
   "metadata": {},
   "source": [
    "# Testing with Generator Paths"
   ]
  },
  {
   "cell_type": "code",
   "execution_count": 47,
   "id": "basic-kidney",
   "metadata": {},
   "outputs": [],
   "source": [
    "# With genned paths?\n",
    "from pymousegan.models.lstm import BidirectionalLSTMDecoderGenerator\n",
    "def load_gen():\n",
    "    seq_shape = (100, 3)\n",
    "    noise_size = (100, 100)\n",
    "    generator = BidirectionalLSTMDecoderGenerator(noise_size, seq_shape,\n",
    "                                              hidden_units_list=[256, 128],\n",
    "                                              output_act='tanh')\n",
    "    model_path = \"/home/joseph/Coding/work/ai_mouse_movements/js/src/model/gen_15001_weights.h5\"\n",
    "    generator.model.load_weights(model_path)\n",
    "    return generator\n",
    "\n",
    "def generate_gen_batch(generator, batch_size=16):\n",
    "    noise = generator.generate_noise(batch_size=batch_size)\n",
    "    # Generate a batch of new note sequences\n",
    "    gen_seqs = generator.model.predict(noise)\n",
    "    return gen_seqs"
   ]
  },
  {
   "cell_type": "code",
   "execution_count": 50,
   "id": "polish-morgan",
   "metadata": {},
   "outputs": [
    {
     "name": "stdout",
     "output_type": "stream",
     "text": [
      "Creating a generator with 2 LSTM layers.\n"
     ]
    },
    {
     "data": {
      "text/plain": [
       "128"
      ]
     },
     "execution_count": 50,
     "metadata": {},
     "output_type": "execute_result"
    }
   ],
   "source": [
    "gen = load_gen()\n",
    "gen_data = []\n",
    "batch_size = 16\n",
    "for i in range(int(2048/batch_size)):\n",
    "    gen_data.append(generate_gen_batch(gen, batch_size))\n",
    "len(gen_data)"
   ]
  },
  {
   "cell_type": "code",
   "execution_count": 54,
   "id": "round-congress",
   "metadata": {},
   "outputs": [
    {
     "name": "stderr",
     "output_type": "stream",
     "text": [
      "100%|██████████| 128/128 [00:15<00:00,  8.36it/s]\n"
     ]
    },
    {
     "data": {
      "text/plain": [
       "[0.001624464988708496,\n",
       " 0.0008282363414764404,\n",
       " 0.002858787775039673,\n",
       " 0.00043720006942749023,\n",
       " 0.0009509623050689697]"
      ]
     },
     "execution_count": 54,
     "metadata": {},
     "output_type": "execute_result"
    }
   ],
   "source": [
    "from tqdm import tqdm\n",
    "stats = []\n",
    "for coord_batch in tqdm(gen_data):\n",
    "    out = discrim.model.predict(coord_batch)\n",
    "    for p in out:\n",
    "        stats.append(float(p))\n",
    "stats[:5]"
   ]
  },
  {
   "cell_type": "code",
   "execution_count": 55,
   "id": "chicken-fighter",
   "metadata": {},
   "outputs": [
    {
     "data": {
      "text/plain": [
       "(array([1895.,   90.,   30.,   18.,    3.,    5.,    2.,    0.,    3.,\n",
       "           2.]),\n",
       " array([2.91305605e-05, 4.00249104e-03, 7.97585152e-03, 1.19492120e-02,\n",
       "        1.59225725e-02, 1.98959330e-02, 2.38692934e-02, 2.78426539e-02,\n",
       "        3.18160144e-02, 3.57893749e-02, 3.97627354e-02]),\n",
       " <BarContainer object of 10 artists>)"
      ]
     },
     "execution_count": 55,
     "metadata": {},
     "output_type": "execute_result"
    },
    {
     "data": {
      "image/png": "[encoded data removed]",
      "text/plain": [
       "<Figure size 432x288 with 1 Axes>"
      ]
     },
     "metadata": {
      "needs_background": "light"
     },
     "output_type": "display_data"
    }
   ],
   "source": [
    "import matplotlib.pyplot as plt\n",
    "plt.hist(stats)"
   ]
  },
  {
   "cell_type": "code",
   "execution_count": null,
   "id": "distributed-earth",
   "metadata": {},
   "outputs": [],
   "source": [
    "# Really good at detecting fake paths LMAOO (closer to 0 --> The more the discriminator thinks the genned data is fake)"
   ]
  },
  {
   "cell_type": "code",
   "execution_count": null,
   "id": "classical-reverse",
   "metadata": {},
   "outputs": [],
   "source": [
    "# Possible that the discriminator has just overfitted on the \"real data\" and \n",
    "# no longer considers anything else as \"real\""
   ]
  }
 ],
 "metadata": {
  "kernelspec": {
   "display_name": "Python 3",
   "language": "python",
   "name": "python3"
  },
  "language_info": {
   "codemirror_mode": {
    "name": "ipython",
    "version": 3
   },
   "file_extension": ".py",
   "mimetype": "text/x-python",
   "name": "python",
   "nbconvert_exporter": "python",
   "pygments_lexer": "ipython3",
   "version": "3.8.5"
  },
  "toc": {
   "base_numbering": 1,
   "nav_menu": {},
   "number_sections": true,
   "sideBar": true,
   "skip_h1_title": false,
   "title_cell": "Table of Contents",
   "title_sidebar": "Contents",
   "toc_cell": false,
   "toc_position": {},
   "toc_section_display": true,
   "toc_window_display": false
  }
 },
 "nbformat": 4,
 "nbformat_minor": 5
}
